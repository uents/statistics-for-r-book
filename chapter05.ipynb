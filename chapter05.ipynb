{
 "cells": [
  {
   "cell_type": "markdown",
   "metadata": {},
   "source": [
    "# 第5章 統計的仮説検定"
   ]
  },
  {
   "cell_type": "code",
   "execution_count": 1,
   "metadata": {},
   "outputs": [],
   "source": [
    "%reload_ext autoreload\n",
    "%autoreload 2\n",
    "%matplotlib inline\n",
    "\n",
    "import sys\n",
    "import os\n",
    "import math\n",
    "import datetime as dt\n",
    "\n",
    "import numpy as np\n",
    "import scipy\n",
    "import statsmodels.api as sm\n",
    "import pandas as pd\n",
    "import matplotlib.pyplot as plt\n",
    "import seaborn as sns\n",
    "#from bokeh.io import output_notebook, show\n",
    "#from bokeh.plotting import figure\n",
    "\n",
    "sns.set(font_scale=1.5)\n",
    "#plt.rcParams['font.family'] = 'IPAexGothic'"
   ]
  },
  {
   "cell_type": "code",
   "execution_count": 2,
   "metadata": {},
   "outputs": [],
   "source": [
    "a = np.random.normal(size=50)\n",
    "b = np.random.normal(size=50)\n",
    "c = a * 0.5 + np.sqrt(0.75) * b\n",
    "self_esteem = 10 * a + 50\n",
    "social_skill = 10 * c + 50"
   ]
  },
  {
   "cell_type": "code",
   "execution_count": 3,
   "metadata": {},
   "outputs": [
    {
     "data": {
      "text/plain": [
       "<matplotlib.text.Text at 0x11cfc10f0>"
      ]
     },
     "execution_count": 3,
     "metadata": {},
     "output_type": "execute_result"
    },
    {
     "data": {
      "image/png": "[encoded data removed]",
      "text/plain": [
       "<matplotlib.figure.Figure at 0x119c80b38>"
      ]
     },
     "metadata": {},
     "output_type": "display_data"
    }
   ],
   "source": [
    "fig, ax = plt.subplots(figsize=(6,6))\n",
    "ax.scatter(x=self_esteem, y=social_skill)\n",
    "ax.scatter(x=50, y=50, s=50000, alpha=0.3)\n",
    "ax.set_xlim([0,100])\n",
    "ax.set_ylim([0,100])\n",
    "ax.set_xlabel('self-esteem')\n",
    "ax.set_ylabel('social skill')"
   ]
  },
  {
   "cell_type": "markdown",
   "metadata": {},
   "source": [
    "### 統計的仮説検定の手順\n",
    "\n",
    "1. 母集団に関する帰無仮説と対立仮説 (両側or片側検定) を設定する\n",
    "2. 検定統計量を選ぶ\n",
    "3. 有意水準 $\\alpha$ の値を求める\n",
    "4. (データを収集した後) データから検定統計量の実現値を求める\n",
    "5. 検定統計量の実現値が棄却域に入れば帰無仮説を棄却して，対立仮説を採択する．棄却域に入らなければ，帰無仮説を採択する"
   ]
  },
  {
   "cell_type": "markdown",
   "metadata": {},
   "source": [
    "### 標準正規分布を用いた検定\n",
    "1つの平均値の検定・母分散 $\\sigma^2$ が既知"
   ]
  },
  {
   "cell_type": "markdown",
   "metadata": {},
   "source": [
    "例題\n",
    "- 過去のデータの蓄積から「心理学テスト」の得点は平均12，分散10の正規分布に従うことが知られている\n",
    "- つまり，心理学テストの母集団分布は $X \\sim N(12,10)$\n",
    "- 指導法データの20人の心理学テスト得点は，この母集団からの無作為標本と考えてよいか？"
   ]
  },
  {
   "cell_type": "code",
   "execution_count": 4,
   "metadata": {},
   "outputs": [],
   "source": [
    "population_mean = 12\n",
    "population_var = 10"
   ]
  },
  {
   "cell_type": "code",
   "execution_count": 5,
   "metadata": {},
   "outputs": [
    {
     "data": {
      "text/plain": [
       "array([13, 14,  7, 12, 10,  6,  8, 15,  4, 14,  9,  6, 10, 12,  5, 12,  8,\n",
       "        8, 12, 15])"
      ]
     },
     "execution_count": 5,
     "metadata": {},
     "output_type": "execute_result"
    }
   ],
   "source": [
    "path = os.path.join('cache', 'shidouhou.csv')\n",
    "df = pd.read_csv(path, encoding='cp932')\n",
    "df['psych_test'].values"
   ]
  },
  {
   "cell_type": "markdown",
   "metadata": {},
   "source": [
    "帰無仮説・対立仮説の設定\n",
    "- 帰無仮説 $H_{0}$ : $\\mu = 12$ (心理学テストの母平均は12である)\n",
    "- 対立仮説 $H_{1}$ : $\\mu \\neq 12$ (...は12ではない)"
   ]
  },
  {
   "cell_type": "markdown",
   "metadata": {},
   "source": [
    "検定統計量としてZ統計量を選択"
   ]
  },
  {
   "cell_type": "code",
   "execution_count": 6,
   "metadata": {},
   "outputs": [
    {
     "data": {
      "text/plain": [
       "-2.8284271247461898"
      ]
     },
     "execution_count": 6,
     "metadata": {},
     "output_type": "execute_result"
    }
   ],
   "source": [
    "# Z統計量\n",
    "z = (df['psych_test'].mean() - population_mean) / np.sqrt(population_var / len(df['psych_test']))\n",
    "z"
   ]
  },
  {
   "cell_type": "markdown",
   "metadata": {},
   "source": [
    "有意水準を5%に設定"
   ]
  },
  {
   "cell_type": "code",
   "execution_count": 7,
   "metadata": {},
   "outputs": [],
   "source": [
    "alpha = 0.05"
   ]
  },
  {
   "cell_type": "markdown",
   "metadata": {},
   "source": [
    "帰無仮説の棄却 or 採択の決定"
   ]
  },
  {
   "cell_type": "code",
   "execution_count": 8,
   "metadata": {},
   "outputs": [
    {
     "data": {
      "text/plain": [
       "(-1.9599639845400545, 1.959963984540054)"
      ]
     },
     "execution_count": 8,
     "metadata": {},
     "output_type": "execute_result"
    }
   ],
   "source": [
    "# 下側確率となるZ値\n",
    "prob_lower = scipy.stats.norm.ppf(q=alpha/2)\n",
    "# 上側確率となるZ値\n",
    "prob_upper = scipy.stats.norm.ppf(q=1-alpha/2)\n",
    "prob_lower, prob_upper"
   ]
  },
  {
   "cell_type": "code",
   "execution_count": 9,
   "metadata": {},
   "outputs": [
    {
     "data": {
      "text/plain": [
       "False"
      ]
     },
     "execution_count": 9,
     "metadata": {},
     "output_type": "execute_result"
    }
   ],
   "source": [
    "# 帰無仮説が採択されるか\n",
    "significant = prob_lower <= z <= prob_upper\n",
    "significant"
   ]
  },
  {
   "cell_type": "markdown",
   "metadata": {},
   "source": [
    "帰無仮説が棄却された -> 心理学テストの母平均は12とはいえない"
   ]
  },
  {
   "cell_type": "markdown",
   "metadata": {},
   "source": [
    "なお，`scipy.stats.norm.cdf()` より直接検定することもできる → 5%未満のため棄却域"
   ]
  },
  {
   "cell_type": "code",
   "execution_count": 10,
   "metadata": {},
   "outputs": [
    {
     "data": {
      "text/plain": [
       "0.0023388674905236331"
      ]
     },
     "execution_count": 10,
     "metadata": {},
     "output_type": "execute_result"
    }
   ],
   "source": [
    "scipy.stats.norm.cdf(z, loc=0, scale=1)"
   ]
  },
  {
   "cell_type": "markdown",
   "metadata": {},
   "source": [
    "または，$\\bar{X} \\sim N \\bigl( \\mu, \\frac{\\sigma^{2}}{n} \\bigr)$ を直接検定する → 5%未満のため棄却域"
   ]
  },
  {
   "cell_type": "code",
   "execution_count": 11,
   "metadata": {},
   "outputs": [
    {
     "data": {
      "text/plain": [
       "0.0023388674905236331"
      ]
     },
     "execution_count": 11,
     "metadata": {},
     "output_type": "execute_result"
    }
   ],
   "source": [
    "scipy.stats.norm.cdf(x=df['psych_test'].mean(),\n",
    "                     loc=population_mean,\n",
    "                     scale=np.sqrt(population_var/len(df['psych_test'])))"
   ]
  },
  {
   "cell_type": "markdown",
   "metadata": {},
   "source": [
    "### t分布を用いた検定\n",
    "1つの平均値の検定・母分散 $\\sigma^2$ が未知"
   ]
  },
  {
   "cell_type": "code",
   "execution_count": 12,
   "metadata": {},
   "outputs": [
    {
     "data": {
      "text/plain": [
       "<matplotlib.legend.Legend at 0x11d5f6e10>"
      ]
     },
     "execution_count": 12,
     "metadata": {},
     "output_type": "execute_result"
    },
    {
     "data": {
      "image/png": "[encoded data removed]",
      "text/plain": [
       "<matplotlib.figure.Figure at 0x11d484a20>"
      ]
     },
     "metadata": {},
     "output_type": "display_data"
    }
   ],
   "source": [
    "# t分布をプロット\n",
    "x = np.linspace(-5,5,100)\n",
    "t1 = scipy.stats.t.pdf(x, df=8) # dfは自由度\n",
    "t2 = scipy.stats.t.pdf(x, df=4)\n",
    "t3 = scipy.stats.t.pdf(x, df=2)\n",
    "t4 = scipy.stats.t.pdf(x, df=1)\n",
    "\n",
    "# 自由度が大きい凸になり裾も狭くなる\n",
    "fig, ax = plt.subplots(figsize=(6,6))\n",
    "ax.plot(x, t1, label='df=8')\n",
    "ax.plot(x, t2, label='df=4')\n",
    "ax.plot(x, t3, label='df=2')\n",
    "ax.plot(x, t4, label='df=1')\n",
    "ax.set_xlabel('x')\n",
    "ax.set_ylabel('dt(x)')\n",
    "ax.legend()"
   ]
  },
  {
   "cell_type": "markdown",
   "metadata": {},
   "source": [
    "例題\n",
    "- 過去のデータの蓄積から「心理学テスト」の得点は平均`12`の正規分布に従う\n",
    "- 「指導法データ」の20人の心理学テスト得点は，この母集団からの無作為標本と考えてよいか？"
   ]
  },
  {
   "cell_type": "markdown",
   "metadata": {},
   "source": [
    "帰無仮説と対立仮説の設定\n",
    "- 帰無仮説 $H_{0} : \\mu = 12$\n",
    "- 対立仮説 $H_{1} : \\mu \\neq 12$"
   ]
  },
  {
   "cell_type": "code",
   "execution_count": 13,
   "metadata": {},
   "outputs": [],
   "source": [
    "population_mean = 12"
   ]
  },
  {
   "cell_type": "markdown",
   "metadata": {},
   "source": [
    "検定統計量としてt統計量を選択"
   ]
  },
  {
   "cell_type": "code",
   "execution_count": 14,
   "metadata": {},
   "outputs": [
    {
     "data": {
      "text/plain": [
       "-2.616648017377738"
      ]
     },
     "execution_count": 14,
     "metadata": {},
     "output_type": "execute_result"
    }
   ],
   "source": [
    "t = (df['psych_test'].mean() - population_mean) / (df['psych_test'].std() / np.sqrt(len(df['psych_test'])))\n",
    "t"
   ]
  },
  {
   "cell_type": "markdown",
   "metadata": {},
   "source": [
    "有意水準 $\\alpha$ を5%に設定"
   ]
  },
  {
   "cell_type": "code",
   "execution_count": 15,
   "metadata": {},
   "outputs": [],
   "source": [
    "alpha = 0.05"
   ]
  },
  {
   "cell_type": "markdown",
   "metadata": {},
   "source": [
    "帰無仮説の棄却 or 採択"
   ]
  },
  {
   "cell_type": "code",
   "execution_count": 16,
   "metadata": {},
   "outputs": [
    {
     "data": {
      "text/plain": [
       "19"
      ]
     },
     "execution_count": 16,
     "metadata": {},
     "output_type": "execute_result"
    }
   ],
   "source": [
    "# 自由度\n",
    "dof = len(df['psych_test']) - 1\n",
    "dof"
   ]
  },
  {
   "cell_type": "code",
   "execution_count": 17,
   "metadata": {},
   "outputs": [
    {
     "data": {
      "text/plain": [
       "(-2.0930240544082634, 2.093024054408263)"
      ]
     },
     "execution_count": 17,
     "metadata": {},
     "output_type": "execute_result"
    }
   ],
   "source": [
    "prob_lower = scipy.stats.t.ppf(q=alpha/2, df=dof)\n",
    "prob_upper = scipy.stats.t.ppf(q=(1-alpha/2), df=dof)\n",
    "prob_lower, prob_upper"
   ]
  },
  {
   "cell_type": "code",
   "execution_count": 18,
   "metadata": {},
   "outputs": [
    {
     "data": {
      "text/plain": [
       "False"
      ]
     },
     "execution_count": 18,
     "metadata": {},
     "output_type": "execute_result"
    }
   ],
   "source": [
    "# 帰無仮説が採択されるか\n",
    "significant = prob_lower <= t <= prob_upper\n",
    "significant"
   ]
  },
  {
   "cell_type": "markdown",
   "metadata": {},
   "source": [
    "帰無仮説が棄却された → 心理学テストの母平均は12とはいえない"
   ]
  },
  {
   "cell_type": "markdown",
   "metadata": {},
   "source": [
    "または， xxx を直接検定する → 5%未満のため帰無仮説が棄却される"
   ]
  },
  {
   "cell_type": "code",
   "execution_count": 33,
   "metadata": {},
   "outputs": [
    {
     "data": {
      "text/plain": [
       "\u001b[0;31mSignature:\u001b[0m \u001b[0mscipy\u001b[0m\u001b[0;34m.\u001b[0m\u001b[0mstats\u001b[0m\u001b[0;34m.\u001b[0m\u001b[0mt\u001b[0m\u001b[0;34m.\u001b[0m\u001b[0mcdf\u001b[0m\u001b[0;34m(\u001b[0m\u001b[0mx\u001b[0m\u001b[0;34m,\u001b[0m \u001b[0;34m*\u001b[0m\u001b[0margs\u001b[0m\u001b[0;34m,\u001b[0m \u001b[0;34m**\u001b[0m\u001b[0mkwds\u001b[0m\u001b[0;34m)\u001b[0m\u001b[0;34m\u001b[0m\u001b[0m\n",
       "\u001b[0;31mDocstring:\u001b[0m\n",
       "Cumulative distribution function of the given RV.\n",
       "\n",
       "Parameters\n",
       "----------\n",
       "x : array_like\n",
       "    quantiles\n",
       "arg1, arg2, arg3,... : array_like\n",
       "    The shape parameter(s) for the distribution (see docstring of the\n",
       "    instance object for more information)\n",
       "loc : array_like, optional\n",
       "    location parameter (default=0)\n",
       "scale : array_like, optional\n",
       "    scale parameter (default=1)\n",
       "\n",
       "Returns\n",
       "-------\n",
       "cdf : ndarray\n",
       "    Cumulative distribution function evaluated at `x`\n",
       "\u001b[0;31mFile:\u001b[0m      ~/.anyenv/envs/pyenv/versions/anaconda3-4.3.0/lib/python3.6/site-packages/scipy/stats/_distn_infrastructure.py\n",
       "\u001b[0;31mType:\u001b[0m      method\n"
      ]
     },
     "metadata": {},
     "output_type": "display_data"
    }
   ],
   "source": [
    "scipy.stats.t.cdf?"
   ]
  },
  {
   "cell_type": "code",
   "execution_count": 31,
   "metadata": {},
   "outputs": [
    {
     "data": {
      "text/plain": [
       "0.0084854601347817207"
      ]
     },
     "execution_count": 31,
     "metadata": {},
     "output_type": "execute_result"
    }
   ],
   "source": [
    "scipy.stats.t.cdf(x=df['psych_test'].mean(),\n",
    "                  df=dof,\n",
    "                  loc=population_mean,\n",
    "                  scale=(df['psych_test'].std() / np.sqrt(len(df['psych_test']))))"
   ]
  },
  {
   "cell_type": "code",
   "execution_count": null,
   "metadata": {},
   "outputs": [],
   "source": []
  }
 ],
 "metadata": {
  "kernelspec": {
   "display_name": "Python 3",
   "language": "python",
   "name": "python3"
  },
  "language_info": {
   "codemirror_mode": {
    "name": "ipython",
    "version": 3
   },
   "file_extension": ".py",
   "mimetype": "text/x-python",
   "name": "python",
   "nbconvert_exporter": "python",
   "pygments_lexer": "ipython3",
   "version": "3.6.0"
  }
 },
 "nbformat": 4,
 "nbformat_minor": 2
}
