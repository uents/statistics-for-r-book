{
 "cells": [
  {
   "cell_type": "markdown",
   "metadata": {},
   "source": [
    "# 第2章 1つの変数の記述統計"
   ]
  },
  {
   "cell_type": "code",
   "execution_count": 4,
   "metadata": {},
   "outputs": [],
   "source": [
    "%reload_ext autoreload\n",
    "%autoreload 2\n",
    "%matplotlib inline\n",
    "\n",
    "import sys\n",
    "import os\n",
    "import math\n",
    "import datetime as dt\n",
    "\n",
    "import numpy as np\n",
    "import scipy\n",
    "import statsmodels.api as sm\n",
    "import pandas as pd\n",
    "import matplotlib.pyplot as plt\n",
    "import seaborn as sns\n",
    "#from bokeh.io import output_notebook, show\n",
    "#from bokeh.plotting import figure\n",
    "\n",
    "sns.set(font_scale=1.5)\n",
    "#plt.rcParams['font.family'] = 'IPAexGothic'"
   ]
  },
  {
   "cell_type": "markdown",
   "metadata": {},
   "source": [
    "### 指導法データの要約\n",
    "http://www.cc.aoyama.ac.jp/~t41338/lecture/aoyama/stat2e/stat2e_top.html のサンプルデータを使う"
   ]
  },
  {
   "cell_type": "code",
   "execution_count": 7,
   "metadata": {},
   "outputs": [
    {
     "name": "stdout",
     "output_type": "stream",
     "text": [
      "  % Total    % Received % Xferd  Average Speed   Time    Time     Time  Current\n",
      "                                 Dload  Upload   Total   Spent    Left  Speed\n",
      "100   682  100   682    0     0   4417      0 --:--:-- --:--:-- --:--:--  4516\n"
     ]
    }
   ],
   "source": [
    "!mkdir -p cache\n",
    "!curl http://terao.akiba.coocan.jp/lecture/aoyama/stat2e/shidouhou.csv -o cache/shidouhou.csv"
   ]
  },
  {
   "cell_type": "code",
   "execution_count": 104,
   "metadata": {},
   "outputs": [
    {
     "data": {
      "text/html": [
       "<div>\n",
       "<table border=\"1\" class=\"dataframe\">\n",
       "  <thead>\n",
       "    <tr style=\"text-align: right;\">\n",
       "      <th></th>\n",
       "      <th>SID</th>\n",
       "      <th>name</th>\n",
       "      <th>sex</th>\n",
       "      <th>math</th>\n",
       "      <th>stat</th>\n",
       "      <th>psych_test</th>\n",
       "      <th>stat_test1</th>\n",
       "      <th>stat_test2</th>\n",
       "      <th>method</th>\n",
       "    </tr>\n",
       "  </thead>\n",
       "  <tbody>\n",
       "    <tr>\n",
       "      <th>0</th>\n",
       "      <td>1</td>\n",
       "      <td>大村</td>\n",
       "      <td>男</td>\n",
       "      <td>嫌い</td>\n",
       "      <td>好き</td>\n",
       "      <td>13</td>\n",
       "      <td>6</td>\n",
       "      <td>10</td>\n",
       "      <td>C</td>\n",
       "    </tr>\n",
       "    <tr>\n",
       "      <th>1</th>\n",
       "      <td>2</td>\n",
       "      <td>本多</td>\n",
       "      <td>男</td>\n",
       "      <td>嫌い</td>\n",
       "      <td>好き</td>\n",
       "      <td>14</td>\n",
       "      <td>10</td>\n",
       "      <td>13</td>\n",
       "      <td>B</td>\n",
       "    </tr>\n",
       "    <tr>\n",
       "      <th>2</th>\n",
       "      <td>3</td>\n",
       "      <td>川崎</td>\n",
       "      <td>男</td>\n",
       "      <td>好き</td>\n",
       "      <td>好き</td>\n",
       "      <td>7</td>\n",
       "      <td>6</td>\n",
       "      <td>8</td>\n",
       "      <td>B</td>\n",
       "    </tr>\n",
       "    <tr>\n",
       "      <th>3</th>\n",
       "      <td>4</td>\n",
       "      <td>多村</td>\n",
       "      <td>男</td>\n",
       "      <td>好き</td>\n",
       "      <td>好き</td>\n",
       "      <td>12</td>\n",
       "      <td>10</td>\n",
       "      <td>15</td>\n",
       "      <td>A</td>\n",
       "    </tr>\n",
       "    <tr>\n",
       "      <th>4</th>\n",
       "      <td>5</td>\n",
       "      <td>松中</td>\n",
       "      <td>男</td>\n",
       "      <td>嫌い</td>\n",
       "      <td>嫌い</td>\n",
       "      <td>10</td>\n",
       "      <td>5</td>\n",
       "      <td>8</td>\n",
       "      <td>B</td>\n",
       "    </tr>\n",
       "  </tbody>\n",
       "</table>\n",
       "</div>"
      ],
      "text/plain": [
       "   SID name sex math stat  psych_test  stat_test1  stat_test2 method\n",
       "0    1   大村   男   嫌い   好き          13           6          10      C\n",
       "1    2   本多   男   嫌い   好き          14          10          13      B\n",
       "2    3   川崎   男   好き   好き           7           6           8      B\n",
       "3    4   多村   男   好き   好き          12          10          15      A\n",
       "4    5   松中   男   嫌い   嫌い          10           5           8      B"
      ]
     },
     "execution_count": 104,
     "metadata": {},
     "output_type": "execute_result"
    }
   ],
   "source": [
    "path = os.path.join('cache', 'shidouhou.csv')\n",
    "df = pd.read_csv(path, encoding='cp932')\n",
    "df.head(5)"
   ]
  },
  {
   "cell_type": "code",
   "execution_count": 105,
   "metadata": {},
   "outputs": [
    {
     "data": {
      "text/plain": [
       "(20, 9)"
      ]
     },
     "execution_count": 105,
     "metadata": {},
     "output_type": "execute_result"
    }
   ],
   "source": [
    "df.shape"
   ]
  },
  {
   "cell_type": "code",
   "execution_count": 107,
   "metadata": {},
   "outputs": [
    {
     "data": {
      "text/plain": [
       "A    5\n",
       "C    5\n",
       "D    5\n",
       "B    5\n",
       "Name: method, dtype: int64"
      ]
     },
     "execution_count": 107,
     "metadata": {},
     "output_type": "execute_result"
    }
   ],
   "source": [
    "# 指導法を集計する\n",
    "df['method'].value_counts()"
   ]
  },
  {
   "cell_type": "markdown",
   "metadata": {},
   "source": [
    "### テストAの要約"
   ]
  },
  {
   "cell_type": "code",
   "execution_count": 109,
   "metadata": {},
   "outputs": [],
   "source": [
    "test_a = pd.DataFrame(data=[10,13,8,15,8], columns=['score'])"
   ]
  },
  {
   "cell_type": "code",
   "execution_count": 111,
   "metadata": {},
   "outputs": [
    {
     "data": {
      "text/plain": [
       "8     2\n",
       "15    1\n",
       "13    1\n",
       "10    1\n",
       "Name: score, dtype: int64"
      ]
     },
     "execution_count": 111,
     "metadata": {},
     "output_type": "execute_result"
    }
   ],
   "source": [
    "test_a['score'].value_counts()"
   ]
  },
  {
   "cell_type": "code",
   "execution_count": 128,
   "metadata": {},
   "outputs": [
    {
     "name": "stdout",
     "output_type": "stream",
     "text": [
      "平均: 10.8\n",
      "中央値: 10.0\n",
      "標準分散: 7.760000000000001\n",
      "不偏分散: 9.700000000000001\n",
      "標準偏差: 3.1144823004794877\n",
      "標準分散の平方根による標準偏差 2.78567765544\n"
     ]
    }
   ],
   "source": [
    "scores = test_a['score']\n",
    "length = len(scores)\n",
    "print('平均:', scores.mean())\n",
    "print('中央値:', scores.median())\n",
    "print('標準分散:', scores.var(ddof=0)) # ddofは \"Delta Degrees of Freedom\" (自由度)の略\n",
    "print('不偏分散:', scores.var(ddof=1)) # 不偏分散は自由度を1として求める\n",
    "print('標準偏差:', scores.std(ddof=1))\n",
    "print('標準分散の平方根による標準偏差', np.sqrt(scores.var(ddof=0)))"
   ]
  },
  {
   "cell_type": "markdown",
   "metadata": {},
   "source": [
    "- データの背後に母集団があり，母集団の値を推測する場合は **不偏分散** を使う\n",
    "- 手元にすべてのデータがあり，そのデータを記述する場合は **標準分散** を使う"
   ]
  },
  {
   "cell_type": "markdown",
   "metadata": {},
   "source": [
    "### 心理学テストの要約"
   ]
  },
  {
   "cell_type": "code",
   "execution_count": 121,
   "metadata": {},
   "outputs": [],
   "source": [
    "score_list = [13, 14, 7, 12, 10, 6, 8, 15, 4, 14, 9, 6, 10, 12, 5, 12, 8, 8, 12, 15]\n",
    "df = pd.DataFrame(data=score_list, columns=['score'])"
   ]
  },
  {
   "cell_type": "code",
   "execution_count": 123,
   "metadata": {},
   "outputs": [
    {
     "data": {
      "text/plain": [
       "array([ 0.90045034,  1.20060045, -0.90045034,  0.60030023,  0.        ,\n",
       "       -1.20060045, -0.60030023,  1.50075056, -1.80090068,  1.20060045,\n",
       "       -0.30015011, -1.20060045,  0.        ,  0.60030023, -1.50075056,\n",
       "        0.60030023, -0.60030023, -0.60030023,  0.60030023,  1.50075056])"
      ]
     },
     "execution_count": 123,
     "metadata": {},
     "output_type": "execute_result"
    }
   ],
   "source": [
    "# Zスコアの算出\n",
    "length = len(df['score']) # データ数\n",
    "std = np.sqrt(df['score'].var(ddof=0))\n",
    "df['z_score'] = (df['score'] - df['score'].mean()) / std\n",
    "df['z_score'].values"
   ]
  },
  {
   "cell_type": "code",
   "execution_count": 124,
   "metadata": {},
   "outputs": [
    {
     "name": "stdout",
     "output_type": "stream",
     "text": [
      "平均: 2.2204460492503132e-17\n",
      "標準偏差: 1.0\n"
     ]
    }
   ],
   "source": [
    "# Zスコアの平均と標準偏差を調べる => 0, 1になっていること\n",
    "print('平均:', df['z_score'].mean())\n",
    "print('標準偏差:', np.sqrt(df['z_score'].var(ddof=0)))"
   ]
  },
  {
   "cell_type": "code",
   "execution_count": 125,
   "metadata": {},
   "outputs": [],
   "source": [
    "# 偏差値の算出\n",
    "df['deviation_score'] = 50 + df['z_score'] * 10"
   ]
  },
  {
   "cell_type": "code",
   "execution_count": 126,
   "metadata": {},
   "outputs": [
    {
     "name": "stdout",
     "output_type": "stream",
     "text": [
      "平均: 50.0\n",
      "標準偏差: 10.0\n"
     ]
    }
   ],
   "source": [
    "# 偏差値の平均と標準偏差を調べる => 50, 10 になっていること\n",
    "print('平均:', df['deviation_score'].mean())\n",
    "print('標準偏差:', np.sqrt(df['deviation_score'].var(ddof=0)))"
   ]
  },
  {
   "cell_type": "code",
   "execution_count": null,
   "metadata": {},
   "outputs": [],
   "source": []
  },
  {
   "cell_type": "code",
   "execution_count": null,
   "metadata": {},
   "outputs": [],
   "source": []
  },
  {
   "cell_type": "code",
   "execution_count": null,
   "metadata": {},
   "outputs": [],
   "source": []
  }
 ],
 "metadata": {
  "kernelspec": {
   "display_name": "Python 3",
   "language": "python",
   "name": "python3"
  },
  "language_info": {
   "codemirror_mode": {
    "name": "ipython",
    "version": 3
   },
   "file_extension": ".py",
   "mimetype": "text/x-python",
   "name": "python",
   "nbconvert_exporter": "python",
   "pygments_lexer": "ipython3",
   "version": "3.6.0"
  }
 },
 "nbformat": 4,
 "nbformat_minor": 2
}
